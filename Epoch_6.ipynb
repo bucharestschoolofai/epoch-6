{
  "nbformat": 4,
  "nbformat_minor": 0,
  "metadata": {
    "colab": {
      "name": "Epoch 6.ipynb",
      "version": "0.3.2",
      "provenance": [],
      "collapsed_sections": []
    },
    "kernelspec": {
      "name": "python3",
      "display_name": "Python 3"
    },
    "accelerator": "GPU"
  },
  "cells": [
    {
      "metadata": {
        "id": "xO9fFAqGQPZt",
        "colab_type": "text"
      },
      "cell_type": "markdown",
      "source": [
        "# Natural Language Processing\n",
        "[Slides](https://docs.google.com/presentation/d/1n0sppuB6w4ow2y3enpakBRs4sVLUteTRIDpcP4IUnG0/edit?usp=sharing)"
      ]
    },
    {
      "metadata": {
        "id": "O6By3LrxDPEj",
        "colab_type": "text"
      },
      "cell_type": "markdown",
      "source": [
        "## Imports"
      ]
    },
    {
      "metadata": {
        "id": "o_pFaKzrQO-1",
        "colab_type": "code",
        "colab": {}
      },
      "cell_type": "code",
      "source": [
        "import keras\n",
        "import numpy as np\n",
        "import matplotlib.pyplot as plt\n",
        "%matplotlib inline\n",
        "\n",
        "import seaborn as sns\n",
        "from keras.datasets import imdb\n",
        "\n",
        "from keras.preprocessing.text import Tokenizer\n",
        "from sklearn.metrics.pairwise import cosine_similarity\n",
        "\n",
        "from sklearn.datasets import fetch_20newsgroups\n",
        "from sklearn.model_selection import train_test_split\n",
        "\n",
        "from sklearn.feature_extraction.text import TfidfVectorizer"
      ],
      "execution_count": 0,
      "outputs": []
    },
    {
      "metadata": {
        "id": "ZU01w3z_DRib",
        "colab_type": "text"
      },
      "cell_type": "markdown",
      "source": [
        "## 20 News Groups"
      ]
    },
    {
      "metadata": {
        "id": "m76EAlbzQ20d",
        "colab_type": "code",
        "colab": {}
      },
      "cell_type": "code",
      "source": [
        "news = fetch_20newsgroups()"
      ],
      "execution_count": 0,
      "outputs": []
    },
    {
      "metadata": {
        "id": "WObdo5l3Q5pH",
        "colab_type": "code",
        "colab": {}
      },
      "cell_type": "code",
      "source": [
        "X = news.data\n",
        "y = news.target"
      ],
      "execution_count": 0,
      "outputs": []
    },
    {
      "metadata": {
        "id": "CRGXQmfZNgoz",
        "colab_type": "code",
        "outputId": "a9a3f27a-a161-4d56-c1c7-b1dc52fbc346",
        "colab": {
          "base_uri": "https://localhost:8080/",
          "height": 798
        }
      },
      "cell_type": "code",
      "source": [
        "print(X[0])\n",
        "print(\"###############\")\n",
        "print(X[1])"
      ],
      "execution_count": 0,
      "outputs": [
        {
          "output_type": "stream",
          "text": [
            "From: lerxst@wam.umd.edu (where's my thing)\n",
            "Subject: WHAT car is this!?\n",
            "Nntp-Posting-Host: rac3.wam.umd.edu\n",
            "Organization: University of Maryland, College Park\n",
            "Lines: 15\n",
            "\n",
            " I was wondering if anyone out there could enlighten me on this car I saw\n",
            "the other day. It was a 2-door sports car, looked to be from the late 60s/\n",
            "early 70s. It was called a Bricklin. The doors were really small. In addition,\n",
            "the front bumper was separate from the rest of the body. This is \n",
            "all I know. If anyone can tellme a model name, engine specs, years\n",
            "of production, where this car is made, history, or whatever info you\n",
            "have on this funky looking car, please e-mail.\n",
            "\n",
            "Thanks,\n",
            "- IL\n",
            "   ---- brought to you by your neighborhood Lerxst ----\n",
            "\n",
            "\n",
            "\n",
            "\n",
            "\n",
            "###############\n",
            "From: guykuo@carson.u.washington.edu (Guy Kuo)\n",
            "Subject: SI Clock Poll - Final Call\n",
            "Summary: Final call for SI clock reports\n",
            "Keywords: SI,acceleration,clock,upgrade\n",
            "Article-I.D.: shelley.1qvfo9INNc3s\n",
            "Organization: University of Washington\n",
            "Lines: 11\n",
            "NNTP-Posting-Host: carson.u.washington.edu\n",
            "\n",
            "A fair number of brave souls who upgraded their SI clock oscillator have\n",
            "shared their experiences for this poll. Please send a brief message detailing\n",
            "your experiences with the procedure. Top speed attained, CPU rated speed,\n",
            "add on cards and adapters, heat sinks, hour of usage per day, floppy disk\n",
            "functionality with 800 and 1.4 m floppies are especially requested.\n",
            "\n",
            "I will be summarizing in the next two days, so please add to the network\n",
            "knowledge base if you have done the clock upgrade and haven't answered this\n",
            "poll. Thanks.\n",
            "\n",
            "Guy Kuo <guykuo@u.washington.edu>\n",
            "\n"
          ],
          "name": "stdout"
        }
      ]
    },
    {
      "metadata": {
        "id": "yxu1P2B5Rr1_",
        "colab_type": "code",
        "outputId": "55e95694-818d-4dac-80dc-055d06bcf146",
        "colab": {
          "base_uri": "https://localhost:8080/",
          "height": 808
        }
      },
      "cell_type": "code",
      "source": [
        "plt.bar(np.arange(len(np.unique(y))), np.unique(y, return_counts=True)[1])\n",
        "plt.gcf().set_size_inches(21, 14)"
      ],
      "execution_count": 0,
      "outputs": [
        {
          "output_type": "display_data",
          "data": {
            "image/png": "[encoded data removed]",
            "text/plain": [
              "<Figure size 1512x1008 with 1 Axes>"
            ]
          },
          "metadata": {
            "tags": []
          }
        }
      ]
    },
    {
      "metadata": {
        "id": "R7Rwd5T5-Hk3",
        "colab_type": "text"
      },
      "cell_type": "markdown",
      "source": [
        "## Text Preprocessing"
      ]
    },
    {
      "metadata": {
        "id": "G8s9DXNhDYK_",
        "colab_type": "text"
      },
      "cell_type": "markdown",
      "source": [
        "Text data can come in different shapes and sizes. To 'normalize' the data to make it more usable in our models we need to clean it by removing punctuation, link, removing duplicate spaces, removing newline characters, make everything lowercase.\n",
        "\n",
        "\n",
        "Check this article for more information:\n",
        " - https://machinelearningmastery.com/clean-text-machine-learning-python/\n",
        " "
      ]
    },
    {
      "metadata": {
        "id": "Xhfo8PAOR0rl",
        "colab_type": "code",
        "colab": {}
      },
      "cell_type": "code",
      "source": [
        "import re\n",
        "import nltk\n",
        "import string\n",
        "\n",
        "def clean(text):\n",
        "    text = re.sub('<[^<]+?>', ' ', text)\n",
        " \n",
        "    text = text.replace('\\\\\"', '')\n",
        " \n",
        "    text = text.replace('\\n', ' ')\n",
        "  \n",
        "    text = text.replace('\\t', ' ')\n",
        "\n",
        "    text = text.replace('\"', '')\n",
        "      \n",
        "    text = text.translate(str.maketrans('', '', string.punctuation))\n",
        "\n",
        "    text = re.sub(' +', ' ', text)\n",
        "    \n",
        "    text = re.sub('\\d+', '0', text)\n",
        "    \n",
        "    text = text.lower()\n",
        "    \n",
        "    \n",
        "    return text"
      ],
      "execution_count": 0,
      "outputs": []
    },
    {
      "metadata": {
        "id": "FeZ8T1ubSa_H",
        "colab_type": "code",
        "outputId": "6336d05f-830b-4622-8d7d-43aeb0389765",
        "colab": {
          "base_uri": "https://localhost:8080/",
          "height": 54
        }
      },
      "cell_type": "code",
      "source": [
        "clean(X[0])"
      ],
      "execution_count": 0,
      "outputs": [
        {
          "output_type": "execute_result",
          "data": {
            "text/plain": [
              "'from lerxstwamumdedu wheres my thing subject what car is this nntppostinghost rac0wamumdedu organization university of maryland college park lines 0 i was wondering if anyone out there could enlighten me on this car i saw the other day it was a 0door sports car looked to be from the late 0s early 0s it was called a bricklin the doors were really small in addition the front bumper was separate from the rest of the body this is all i know if anyone can tellme a model name engine specs years of production where this car is made history or whatever info you have on this funky looking car please email thanks il brought to you by your neighborhood lerxst '"
            ]
          },
          "metadata": {
            "tags": []
          },
          "execution_count": 7
        }
      ]
    },
    {
      "metadata": {
        "id": "1Mrlmd4t-NpH",
        "colab_type": "text"
      },
      "cell_type": "markdown",
      "source": [
        "# Bag of Words"
      ]
    },
    {
      "metadata": {
        "id": "O2rnRva6D3gH",
        "colab_type": "text"
      },
      "cell_type": "markdown",
      "source": [
        "Bag of words model is a way to encode each of our documents as a set of numbers. These numbers represent if a word from the vocabulary is present in the document or not.\n",
        "\n",
        "Check these links to find out more:\n",
        "- https://machinelearningmastery.com/gentle-introduction-bag-words-model/\n",
        "- https://medium.com/greyatom/an-introduction-to-bag-of-words-in-nlp-ac967d43b428\n"
      ]
    },
    {
      "metadata": {
        "id": "h7So03qoScSC",
        "colab_type": "code",
        "outputId": "54d4c016-4f75-4fcb-a770-094d3ca235e7",
        "colab": {
          "base_uri": "https://localhost:8080/",
          "height": 70
        }
      },
      "cell_type": "code",
      "source": [
        "from sklearn.feature_extraction.text import CountVectorizer\n",
        "from nltk.corpus import stopwords\n",
        "import nltk\n",
        "nltk.download('stopwords')"
      ],
      "execution_count": 0,
      "outputs": [
        {
          "output_type": "stream",
          "text": [
            "[nltk_data] Downloading package stopwords to /root/nltk_data...\n",
            "[nltk_data]   Package stopwords is already up-to-date!\n"
          ],
          "name": "stdout"
        },
        {
          "output_type": "execute_result",
          "data": {
            "text/plain": [
              "True"
            ]
          },
          "metadata": {
            "tags": []
          },
          "execution_count": 8
        }
      ]
    },
    {
      "metadata": {
        "id": "n-iGXH8fUYXq",
        "colab_type": "code",
        "colab": {}
      },
      "cell_type": "code",
      "source": [
        "vectorizer = CountVectorizer(binary=True, stop_words=stopwords.words('english'), min_df=3, max_features=100)\n",
        "\n",
        "X_train_onehot = vectorizer.fit_transform([clean(x) for x in X]).todense()\n"
      ],
      "execution_count": 0,
      "outputs": []
    },
    {
      "metadata": {
        "id": "HRqBjJ-bUgAV",
        "colab_type": "code",
        "outputId": "e9855c81-bc44-401f-9420-b817469f0663",
        "colab": {
          "base_uri": "https://localhost:8080/",
          "height": 34
        }
      },
      "cell_type": "code",
      "source": [
        "X_train_onehot.shape"
      ],
      "execution_count": 0,
      "outputs": [
        {
          "output_type": "execute_result",
          "data": {
            "text/plain": [
              "(11314, 100)"
            ]
          },
          "metadata": {
            "tags": []
          },
          "execution_count": 10
        }
      ]
    },
    {
      "metadata": {
        "id": "r5pCb0HFVHWS",
        "colab_type": "code",
        "outputId": "b769a2ad-80a5-4d3f-e604-ac16a1228ce1",
        "colab": {
          "base_uri": "https://localhost:8080/",
          "height": 447
        }
      },
      "cell_type": "code",
      "source": [
        "sns.heatmap(X_train_onehot[:100, :])\n",
        "\n",
        "ax = plt.gca()\n",
        "\n",
        "ax.set_xlabel('Word Index')\n",
        "ax.set_ylabel('Document Index')\n",
        "\n",
        "plt.gcf().set_size_inches(14, 7)"
      ],
      "execution_count": 0,
      "outputs": [
        {
          "output_type": "display_data",
          "data": {
            "image/png": "[encoded data removed]",
            "text/plain": [
              "<Figure size 1008x504 with 2 Axes>"
            ]
          },
          "metadata": {
            "tags": []
          }
        }
      ]
    },
    {
      "metadata": {
        "id": "nJXcMgY1-QGW",
        "colab_type": "text"
      },
      "cell_type": "markdown",
      "source": [
        "This image is a showing for a particular document (y axis), what words appear in it. Only \"important\" words are taken into account, that have the highest term frequency.\n",
        "\n"
      ]
    },
    {
      "metadata": {
        "id": "XdZ_XKSN_Ky2",
        "colab_type": "text"
      },
      "cell_type": "markdown",
      "source": [
        "## Feed-Forward Neural Network on Bag of Words"
      ]
    },
    {
      "metadata": {
        "id": "zMKd2-PaVMfe",
        "colab_type": "code",
        "colab": {}
      },
      "cell_type": "code",
      "source": [
        "vectorizer = CountVectorizer(binary=True, stop_words=stopwords.words('english'), max_features=5000)\n",
        "X_train_onehot = vectorizer.fit_transform([clean(x) for x in X]).todense()\n",
        "\n",
        "x_train, x_test, y_train, y_test = train_test_split(X_train_onehot, y, random_state=42)"
      ],
      "execution_count": 0,
      "outputs": []
    },
    {
      "metadata": {
        "id": "CZwWgkyEj6uo",
        "colab_type": "code",
        "outputId": "0f2b26fc-7cb6-4b96-eb54-6b55396af8d1",
        "colab": {
          "base_uri": "https://localhost:8080/",
          "height": 34
        }
      },
      "cell_type": "code",
      "source": [
        "x_train.shape, y_train.shape"
      ],
      "execution_count": 0,
      "outputs": [
        {
          "output_type": "execute_result",
          "data": {
            "text/plain": [
              "((8485, 5000), (8485,))"
            ]
          },
          "metadata": {
            "tags": []
          },
          "execution_count": 13
        }
      ]
    },
    {
      "metadata": {
        "id": "J8UCHS32YC-7",
        "colab_type": "code",
        "outputId": "104cab1c-2fe4-4c7f-f463-9b82203ac5ad",
        "colab": {
          "base_uri": "https://localhost:8080/",
          "height": 301
        }
      },
      "cell_type": "code",
      "source": [
        "model = keras.models.Sequential()\n",
        "\n",
        "model.add(keras.layers.Dense(64, activation='relu', input_shape=(x_train.shape[-1], )))\n",
        "model.add(keras.layers.Dense(32, activation='relu'))\n",
        "\n",
        "model.add(keras.layers.Dense(len(np.unique(y)), activation='softmax'))\n",
        "\n",
        "\n",
        "model.compile(loss='sparse_categorical_crossentropy', optimizer='adam', metrics=['accuracy'])\n",
        "\n",
        "model.summary()"
      ],
      "execution_count": 0,
      "outputs": [
        {
          "output_type": "stream",
          "text": [
            "WARNING:tensorflow:From /usr/local/lib/python3.6/dist-packages/tensorflow/python/framework/op_def_library.py:263: colocate_with (from tensorflow.python.framework.ops) is deprecated and will be removed in a future version.\n",
            "Instructions for updating:\n",
            "Colocations handled automatically by placer.\n",
            "_________________________________________________________________\n",
            "Layer (type)                 Output Shape              Param #   \n",
            "=================================================================\n",
            "dense_1 (Dense)              (None, 64)                320064    \n",
            "_________________________________________________________________\n",
            "dense_2 (Dense)              (None, 32)                2080      \n",
            "_________________________________________________________________\n",
            "dense_3 (Dense)              (None, 20)                660       \n",
            "=================================================================\n",
            "Total params: 322,804\n",
            "Trainable params: 322,804\n",
            "Non-trainable params: 0\n",
            "_________________________________________________________________\n"
          ],
          "name": "stdout"
        }
      ]
    },
    {
      "metadata": {
        "id": "_cYCIu-gYgDb",
        "colab_type": "code",
        "outputId": "28b8b3e1-ef03-4934-cfb5-2ffffcf953b7",
        "colab": {
          "base_uri": "https://localhost:8080/",
          "height": 283
        }
      },
      "cell_type": "code",
      "source": [
        "model.fit(x_train, y_train, epochs=5, batch_size=32, validation_data = (x_test, y_test))"
      ],
      "execution_count": 0,
      "outputs": [
        {
          "output_type": "stream",
          "text": [
            "WARNING:tensorflow:From /usr/local/lib/python3.6/dist-packages/tensorflow/python/ops/math_ops.py:3066: to_int32 (from tensorflow.python.ops.math_ops) is deprecated and will be removed in a future version.\n",
            "Instructions for updating:\n",
            "Use tf.cast instead.\n",
            "Train on 8485 samples, validate on 2829 samples\n",
            "Epoch 1/5\n",
            "8485/8485 [==============================] - 2s 271us/step - loss: 1.6421 - acc: 0.6011 - val_loss: 0.7200 - val_acc: 0.8409\n",
            "Epoch 2/5\n",
            "8485/8485 [==============================] - 1s 171us/step - loss: 0.3971 - acc: 0.9160 - val_loss: 0.5396 - val_acc: 0.8498\n",
            "Epoch 3/5\n",
            "8485/8485 [==============================] - 1s 172us/step - loss: 0.1583 - acc: 0.9749 - val_loss: 0.5156 - val_acc: 0.8568\n",
            "Epoch 4/5\n",
            "8485/8485 [==============================] - 1s 171us/step - loss: 0.0720 - acc: 0.9932 - val_loss: 0.5257 - val_acc: 0.8646\n",
            "Epoch 5/5\n",
            "8485/8485 [==============================] - 1s 173us/step - loss: 0.0375 - acc: 0.9981 - val_loss: 0.5419 - val_acc: 0.8607\n"
          ],
          "name": "stdout"
        },
        {
          "output_type": "execute_result",
          "data": {
            "text/plain": [
              "<keras.callbacks.History at 0x7ff867878048>"
            ]
          },
          "metadata": {
            "tags": []
          },
          "execution_count": 15
        }
      ]
    },
    {
      "metadata": {
        "id": "4P5J6YjsEPih",
        "colab_type": "text"
      },
      "cell_type": "markdown",
      "source": [
        "The network is overfitting. What can we do to prevent this?"
      ]
    },
    {
      "metadata": {
        "id": "Py0yuWxo_QCU",
        "colab_type": "text"
      },
      "cell_type": "markdown",
      "source": [
        "## Feed-Forward Neural Network with Tfidf"
      ]
    },
    {
      "metadata": {
        "id": "bxCwiVghEasY",
        "colab_type": "text"
      },
      "cell_type": "markdown",
      "source": [
        "Tf-idf (term frequency - inverse term frequency) is another way to encode our documents, but takes into account frequent words and infrequent words. \n",
        "\n",
        "Single-page tutorial: \n",
        " - http://www.tfidf.com/\n",
        "\n",
        "Check out this plot to understand more about the intuition:\n",
        "\n",
        "![](https://cdn-images-1.medium.com/max/1200/1*_OsV8gO2cjy9qcFhrtCdiw.jpeg)"
      ]
    },
    {
      "metadata": {
        "id": "etePJMU2_i4B",
        "colab_type": "code",
        "colab": {}
      },
      "cell_type": "code",
      "source": [
        "vectorizer = TfidfVectorizer(stop_words=stopwords.words('english'), max_features=100)"
      ],
      "execution_count": 0,
      "outputs": []
    },
    {
      "metadata": {
        "id": "HDgFUY68_i6t",
        "colab_type": "code",
        "colab": {}
      },
      "cell_type": "code",
      "source": [
        "X_train_tfidf = vectorizer.fit_transform([clean(x) for x in X]).todense()"
      ],
      "execution_count": 0,
      "outputs": []
    },
    {
      "metadata": {
        "id": "vUzMefrYF4Nu",
        "colab_type": "code",
        "outputId": "348988f8-ca76-4f04-b311-ede623e4c1d3",
        "colab": {
          "base_uri": "https://localhost:8080/",
          "height": 34
        }
      },
      "cell_type": "code",
      "source": [
        "X_train_tfidf.shape"
      ],
      "execution_count": 0,
      "outputs": [
        {
          "output_type": "execute_result",
          "data": {
            "text/plain": [
              "(11314, 100)"
            ]
          },
          "metadata": {
            "tags": []
          },
          "execution_count": 19
        }
      ]
    },
    {
      "metadata": {
        "id": "j7-W7uWk_i-C",
        "colab_type": "code",
        "outputId": "0ed8d886-f855-4b10-d73c-49a597b548a1",
        "colab": {
          "base_uri": "https://localhost:8080/",
          "height": 432
        }
      },
      "cell_type": "code",
      "source": [
        "sns.heatmap(X_train_tfidf[:100, :])\n",
        "\n",
        "plt.gcf().set_size_inches(14, 7)"
      ],
      "execution_count": 0,
      "outputs": [
        {
          "output_type": "display_data",
          "data": {
            "image/png": "[encoded data removed]",
            "text/plain": [
              "<Figure size 1008x504 with 2 Axes>"
            ]
          },
          "metadata": {
            "tags": []
          }
        }
      ]
    },
    {
      "metadata": {
        "id": "0qAXFaln_jAu",
        "colab_type": "code",
        "outputId": "43ec9fe5-ffc9-4062-ab65-f8fbe7ef8579",
        "colab": {
          "base_uri": "https://localhost:8080/",
          "height": 230
        }
      },
      "cell_type": "code",
      "source": [
        "vectorizer = TfidfVectorizer(stop_words=stopwords.words('english'), max_features=5000)\n",
        "X_train_tfidf = vectorizer.fit_transform([clean(x) for x in X]).todense()\n",
        "\n",
        "\n",
        "model = keras.models.Sequential()\n",
        "model.add(keras.layers.Dense(64, input_shape=(5000, ), activation='relu'))\n",
        "model.add(keras.layers.Dense(32, activation='relu'))\n",
        "model.add(keras.layers.Dense(len(np.unique(y)), activation='softmax'))\n",
        "\n",
        "\n",
        "model.compile(loss='sparse_categorical_crossentropy', optimizer='adam', metrics=['accuracy'])\n",
        "\n",
        "model.fit(X_train_tfidf, y, epochs=5, validation_split=0.2)"
      ],
      "execution_count": 0,
      "outputs": [
        {
          "output_type": "stream",
          "text": [
            "Train on 9051 samples, validate on 2263 samples\n",
            "Epoch 1/5\n",
            "9051/9051 [==============================] - 2s 193us/step - loss: 2.0897 - acc: 0.5071 - val_loss: 1.0542 - val_acc: 0.8118\n",
            "Epoch 2/5\n",
            "9051/9051 [==============================] - 1s 165us/step - loss: 0.6119 - acc: 0.8774 - val_loss: 0.5854 - val_acc: 0.8418\n",
            "Epoch 3/5\n",
            "9051/9051 [==============================] - 2s 167us/step - loss: 0.2698 - acc: 0.9463 - val_loss: 0.4870 - val_acc: 0.8630\n",
            "Epoch 4/5\n",
            "9051/9051 [==============================] - 2s 166us/step - loss: 0.1381 - acc: 0.9794 - val_loss: 0.4626 - val_acc: 0.8732\n",
            "Epoch 5/5\n",
            "9051/9051 [==============================] - 2s 166us/step - loss: 0.0725 - acc: 0.9925 - val_loss: 0.4674 - val_acc: 0.8705\n"
          ],
          "name": "stdout"
        },
        {
          "output_type": "execute_result",
          "data": {
            "text/plain": [
              "<keras.callbacks.History at 0x7ff8551dacf8>"
            ]
          },
          "metadata": {
            "tags": []
          },
          "execution_count": 21
        }
      ]
    },
    {
      "metadata": {
        "id": "FxXQMJg_Jq48",
        "colab_type": "text"
      },
      "cell_type": "markdown",
      "source": [
        "## Calculating similarity between documents"
      ]
    },
    {
      "metadata": {
        "id": "xJcOM-tmFxJK",
        "colab_type": "text"
      },
      "cell_type": "markdown",
      "source": [
        "![](https://cdn-images-1.medium.com/max/800/0*XMW5mf81LSHodnTi.png)"
      ]
    },
    {
      "metadata": {
        "id": "nzNNC53UJqLC",
        "colab_type": "code",
        "outputId": "2627ea6e-4559-4c29-acd1-7b534697f38a",
        "colab": {
          "base_uri": "https://localhost:8080/",
          "height": 994
        }
      },
      "cell_type": "code",
      "source": [
        "docs = [X[i] for i in np.argwhere(y == 0).ravel()]\n",
        "\n",
        "doc_vector = vectorizer.transform([clean(docs[0])])\n",
        "doc_vector2 = vectorizer.transform([clean(docs[1])])\n",
        "\n",
        "print(docs[0])\n",
        "print('#########################')\n",
        "print(docs[1])\n",
        "\n",
        "print(cosine_similarity(doc_vector.reshape(1, -1), doc_vector2.reshape(1, -1)))\n",
        "\n"
      ],
      "execution_count": 0,
      "outputs": [
        {
          "output_type": "stream",
          "text": [
            "From: mathew <mathew@mantis.co.uk>\n",
            "Subject: Re: <Political Atheists?\n",
            "Organization: Mantis Consultants, Cambridge. UK.\n",
            "X-Newsreader: rusnews v1.01\n",
            "Lines: 22\n",
            "\n",
            "kmr4@po.CWRU.edu (Keith M. Ryan) writes:\n",
            "> ( I am almost sure that Zyklon-B is immediate and painless method of \n",
            "> death. If not, insert soem other form. )\n",
            "> \n",
            ">         And, ethnic and minority groups have been killed, mutilated and \n",
            "> exterminated through out history, so I guess it was not unusual.\n",
            "> \n",
            ">         So, you would agree that the holocost would be allowed under the US \n",
            "> Constitution?  [ in so far, the punishment. I doubt they recieved what would \n",
            "> be considered a \"fair\" trial by US standards.\n",
            "\n",
            "Don't be so sure.  Look what happened to Japanese citizens in the US during\n",
            "World War II.  If you're prepared to say \"Let's round these people up and\n",
            "stick them in a concentration camp without trial\", it's only a short step to\n",
            "gassing them without trial.  After all, it seems that the Nazis originally\n",
            "only intended to imprison the Jews; the Final Solution was dreamt up partly\n",
            "because they couldn't afford to run the camps because of the devastation\n",
            "caused by Goering's Total War.  Those who weren't gassed generally died of\n",
            "malnutrition or disease.\n",
            "\n",
            "\n",
            "mathew\n",
            "\n",
            "#########################\n",
            "From: keith@cco.caltech.edu (Keith Allan Schneider)\n",
            "Subject: Re: <<Pompous ass\n",
            "Organization: California Institute of Technology, Pasadena\n",
            "Lines: 16\n",
            "NNTP-Posting-Host: punisher.caltech.edu\n",
            "\n",
            "livesey@solntze.wpd.sgi.com (Jon Livesey) writes:\n",
            "\n",
            "[...]\n",
            ">>The \"`little' things\" above were in reference to Germany, clearly.  People\n",
            ">>said that there were similar things in Germany, but no one could name any.\n",
            ">That's not true.  I gave you two examples.  One was the rather\n",
            ">pevasive anti-semitism in German Christianity well before Hitler\n",
            ">arrived.  The other was the system of social ranks that were used\n",
            ">in Imperail Germany and Austria to distinguish Jews from the rest \n",
            ">of the population.\n",
            "\n",
            "These don't seem like \"little things\" to me.  At least, they are orders\n",
            "worse than the motto.  Do you think that the motto is a \"little thing\"\n",
            "that will lead to worse things?\n",
            "\n",
            "keith\n",
            "\n",
            "[[0.01918429]]\n",
            "[[0.01918429]]\n"
          ],
          "name": "stdout"
        }
      ]
    },
    {
      "metadata": {
        "id": "70A4TSm1Lwgz",
        "colab_type": "code",
        "outputId": "e2f90438-b6ec-4341-b696-0d1c31d8dce0",
        "colab": {
          "base_uri": "https://localhost:8080/",
          "height": 976
        }
      },
      "cell_type": "code",
      "source": [
        "docs = [X[i] for i in np.argwhere(y == 0).ravel()]\n",
        "docs2 = [X[i] for i in np.argwhere(y == 1).ravel()]\n",
        "\n",
        "doc_vector = vectorizer.transform([clean(docs[0])])\n",
        "doc_vector2 = vectorizer.transform([clean(docs2[0])])\n",
        "\n",
        "print(docs[0])\n",
        "print('#########################')\n",
        "print(docs2[0])\n",
        "\n",
        "print(cosine_similarity(doc_vector.reshape(1, -1), doc_vector2.reshape(1, -1)))"
      ],
      "execution_count": 0,
      "outputs": [
        {
          "output_type": "stream",
          "text": [
            "From: mathew <mathew@mantis.co.uk>\n",
            "Subject: Re: <Political Atheists?\n",
            "Organization: Mantis Consultants, Cambridge. UK.\n",
            "X-Newsreader: rusnews v1.01\n",
            "Lines: 22\n",
            "\n",
            "kmr4@po.CWRU.edu (Keith M. Ryan) writes:\n",
            "> ( I am almost sure that Zyklon-B is immediate and painless method of \n",
            "> death. If not, insert soem other form. )\n",
            "> \n",
            ">         And, ethnic and minority groups have been killed, mutilated and \n",
            "> exterminated through out history, so I guess it was not unusual.\n",
            "> \n",
            ">         So, you would agree that the holocost would be allowed under the US \n",
            "> Constitution?  [ in so far, the punishment. I doubt they recieved what would \n",
            "> be considered a \"fair\" trial by US standards.\n",
            "\n",
            "Don't be so sure.  Look what happened to Japanese citizens in the US during\n",
            "World War II.  If you're prepared to say \"Let's round these people up and\n",
            "stick them in a concentration camp without trial\", it's only a short step to\n",
            "gassing them without trial.  After all, it seems that the Nazis originally\n",
            "only intended to imprison the Jews; the Final Solution was dreamt up partly\n",
            "because they couldn't afford to run the camps because of the devastation\n",
            "caused by Goering's Total War.  Those who weren't gassed generally died of\n",
            "malnutrition or disease.\n",
            "\n",
            "\n",
            "mathew\n",
            "\n",
            "#########################\n",
            "From: jgreen@amber (Joe Green)\n",
            "Subject: Re: Weitek P9000 ?\n",
            "Organization: Harris Computer Systems Division\n",
            "Lines: 14\n",
            "Distribution: world\n",
            "NNTP-Posting-Host: amber.ssd.csd.harris.com\n",
            "X-Newsreader: TIN [version 1.1 PL9]\n",
            "\n",
            "Robert J.C. Kyanko (rob@rjck.UUCP) wrote:\n",
            "> abraxis@iastate.edu writes in article <abraxis.734340159@class1.iastate.edu>:\n",
            "> > Anyone know about the Weitek P9000 graphics chip?\n",
            "> As far as the low-level stuff goes, it looks pretty nice.  It's got this\n",
            "> quadrilateral fill command that requires just the four points.\n",
            "\n",
            "Do you have Weitek's address/phone number?  I'd like to get some information\n",
            "about this chip.\n",
            "\n",
            "--\n",
            "Joe Green\t\t\t\tHarris Corporation\n",
            "jgreen@csd.harris.com\t\t\tComputer Systems Division\n",
            "\"The only thing that really scares me is a person with no sense of humor.\"\n",
            "\t\t\t\t\t\t-- Jonathan Winters\n",
            "\n",
            "[[0.01273891]]\n"
          ],
          "name": "stdout"
        }
      ]
    },
    {
      "metadata": {
        "id": "cN_l5gTYMCYd",
        "colab_type": "text"
      },
      "cell_type": "markdown",
      "source": [
        "### TfIdf only captures syntactic information (occurance of words). Similarity using tfidf between documents is only concerned what words are present, with no semantic meaning."
      ]
    },
    {
      "metadata": {
        "id": "WAYFSGABn_IT",
        "colab_type": "text"
      },
      "cell_type": "markdown",
      "source": [
        "# Word Embeddings"
      ]
    },
    {
      "metadata": {
        "id": "ub3h_FUtFBtL",
        "colab_type": "text"
      },
      "cell_type": "markdown",
      "source": [
        "If we wish to capture some semantic information, we must resort to word embeddings like Word2Vec. These embeddings are learned through a neural network such that they capture information about the relation between words. \n",
        "\n",
        "- https://www.tensorflow.org/tutorials/representation/word2vec\n",
        "- https://towardsdatascience.com/introduction-to-word-embedding-and-word2vec-652d0c2060fa"
      ]
    },
    {
      "metadata": {
        "id": "V1h_pgfohH2k",
        "colab_type": "code",
        "colab": {}
      },
      "cell_type": "code",
      "source": [
        "import gensim\n",
        "\n",
        "import logging\n",
        "logging.basicConfig(format=\"%(levelname)s - %(asctime)s: %(message)s\", datefmt= '%H:%M:%S', level=logging.INFO)"
      ],
      "execution_count": 0,
      "outputs": []
    },
    {
      "metadata": {
        "id": "bVjV93ABYwUT",
        "colab_type": "code",
        "colab": {}
      },
      "cell_type": "code",
      "source": [
        "from gensim.models import Word2Vec\n",
        "\n",
        "w2v_model = Word2Vec(min_count=20,\n",
        "                     window=2,\n",
        "                     size=300,\n",
        "                     sample=6e-5, \n",
        "                     alpha=0.03, \n",
        "                     min_alpha=0.0007, \n",
        "                     negative=20)"
      ],
      "execution_count": 0,
      "outputs": []
    },
    {
      "metadata": {
        "id": "_Vbx_9lgpAg9",
        "colab_type": "code",
        "colab": {}
      },
      "cell_type": "code",
      "source": [
        "cleaned_text = [clean(x).split() for x in X]"
      ],
      "execution_count": 0,
      "outputs": []
    },
    {
      "metadata": {
        "id": "rNv_zqlbZZXQ",
        "colab_type": "code",
        "outputId": "09eadd5b-7d13-42bc-c3de-c35952717b47",
        "colab": {
          "base_uri": "https://localhost:8080/",
          "height": 407
        }
      },
      "cell_type": "code",
      "source": [
        "w2v_model.build_vocab(cleaned_text, progress_per=1000)"
      ],
      "execution_count": 0,
      "outputs": [
        {
          "output_type": "stream",
          "text": [
            "INFO - 09:47:14: collecting all words and their counts\n",
            "INFO - 09:47:14: PROGRESS: at sentence #0, processed 0 words, keeping 0 word types\n",
            "INFO - 09:47:15: PROGRESS: at sentence #1000, processed 265543 words, keeping 26914 word types\n",
            "INFO - 09:47:15: PROGRESS: at sentence #2000, processed 534919 words, keeping 44051 word types\n",
            "INFO - 09:47:15: PROGRESS: at sentence #3000, processed 794024 words, keeping 53664 word types\n",
            "INFO - 09:47:15: PROGRESS: at sentence #4000, processed 1106096 words, keeping 64481 word types\n",
            "INFO - 09:47:15: PROGRESS: at sentence #5000, processed 1395648 words, keeping 75122 word types\n",
            "INFO - 09:47:15: PROGRESS: at sentence #6000, processed 1674088 words, keeping 83187 word types\n",
            "INFO - 09:47:15: PROGRESS: at sentence #7000, processed 1960433 words, keeping 90395 word types\n",
            "INFO - 09:47:15: PROGRESS: at sentence #8000, processed 2240694 words, keeping 96466 word types\n",
            "INFO - 09:47:15: PROGRESS: at sentence #9000, processed 2487059 words, keeping 102263 word types\n",
            "INFO - 09:47:15: PROGRESS: at sentence #10000, processed 2778614 words, keeping 107378 word types\n",
            "INFO - 09:47:15: PROGRESS: at sentence #11000, processed 3035286 words, keeping 115092 word types\n",
            "INFO - 09:47:15: collected 116494 word types from a corpus of 3116347 raw words and 11314 sentences\n",
            "INFO - 09:47:15: Loading a fresh vocabulary\n",
            "INFO - 09:47:15: effective_min_count=20 retains 10024 unique words (8% of original 116494, drops 106470)\n",
            "INFO - 09:47:15: effective_min_count=20 leaves 2826002 word corpus (90% of original 3116347, drops 290345)\n",
            "INFO - 09:47:15: deleting the raw counts dictionary of 116494 items\n",
            "INFO - 09:47:15: sample=6e-05 downsamples 757 most-common words\n",
            "INFO - 09:47:15: downsampling leaves estimated 1270281 word corpus (44.9% of prior 2826002)\n",
            "INFO - 09:47:15: estimated required memory for 10024 words and 300 dimensions: 29069600 bytes\n",
            "INFO - 09:47:15: resetting layer weights\n"
          ],
          "name": "stderr"
        }
      ]
    },
    {
      "metadata": {
        "id": "cFQggFwxjkVx",
        "colab_type": "code",
        "outputId": "9ec9dd31-c6a9-4876-933d-38073a9f9e49",
        "colab": {
          "base_uri": "https://localhost:8080/",
          "height": 247
        }
      },
      "cell_type": "code",
      "source": [
        "w2v_model.train(cleaned_text, total_examples=w2v_model.corpus_count, epochs=1, report_delay=1)"
      ],
      "execution_count": 0,
      "outputs": [
        {
          "output_type": "stream",
          "text": [
            "INFO - 09:47:16: training model with 3 workers on 10024 vocabulary and 300 features, using sg=0 hs=0 sample=6e-05 negative=20 window=2\n",
            "INFO - 09:47:17: EPOCH 1 - PROGRESS: at 14.88% examples, 184661 words/s, in_qsize 5, out_qsize 0\n",
            "INFO - 09:47:18: EPOCH 1 - PROGRESS: at 30.76% examples, 189007 words/s, in_qsize 5, out_qsize 0\n",
            "INFO - 09:47:19: EPOCH 1 - PROGRESS: at 45.74% examples, 192211 words/s, in_qsize 5, out_qsize 0\n",
            "INFO - 09:47:20: EPOCH 1 - PROGRESS: at 61.08% examples, 191764 words/s, in_qsize 5, out_qsize 0\n",
            "INFO - 09:47:21: EPOCH 1 - PROGRESS: at 76.52% examples, 191990 words/s, in_qsize 5, out_qsize 0\n",
            "INFO - 09:47:22: EPOCH 1 - PROGRESS: at 92.15% examples, 192211 words/s, in_qsize 5, out_qsize 0\n",
            "INFO - 09:47:22: worker thread finished; awaiting finish of 2 more threads\n",
            "INFO - 09:47:22: worker thread finished; awaiting finish of 1 more threads\n",
            "INFO - 09:47:22: worker thread finished; awaiting finish of 0 more threads\n",
            "INFO - 09:47:22: EPOCH - 1 : training on 3116347 raw words (1271024 effective words) took 6.6s, 192891 effective words/s\n",
            "INFO - 09:47:22: training on a 3116347 raw words (1271024 effective words) took 6.6s, 192460 effective words/s\n"
          ],
          "name": "stderr"
        },
        {
          "output_type": "execute_result",
          "data": {
            "text/plain": [
              "(1271024, 3116347)"
            ]
          },
          "metadata": {
            "tags": []
          },
          "execution_count": 26
        }
      ]
    },
    {
      "metadata": {
        "id": "pr7t6pjwkvlB",
        "colab_type": "code",
        "outputId": "20de8ee1-202f-4da9-c879-b4d1aab171e7",
        "colab": {
          "base_uri": "https://localhost:8080/",
          "height": 34
        }
      },
      "cell_type": "code",
      "source": [
        "w2v_model.init_sims(replace=True)"
      ],
      "execution_count": 0,
      "outputs": [
        {
          "output_type": "stream",
          "text": [
            "INFO - 09:47:22: precomputing L2-norms of word weight vectors\n"
          ],
          "name": "stderr"
        }
      ]
    },
    {
      "metadata": {
        "id": "lB4X8ErZaANW",
        "colab_type": "code",
        "outputId": "3676391d-80ba-4ff7-df4b-99cb42e9f148",
        "colab": {
          "base_uri": "https://localhost:8080/",
          "height": 250
        }
      },
      "cell_type": "code",
      "source": [
        "w2v_model.wv.most_similar([\"woman\"])"
      ],
      "execution_count": 0,
      "outputs": [
        {
          "output_type": "stream",
          "text": [
            "/usr/local/lib/python3.6/dist-packages/gensim/matutils.py:737: FutureWarning: Conversion of the second argument of issubdtype from `int` to `np.signedinteger` is deprecated. In future, it will be treated as `np.int64 == np.dtype(int).type`.\n",
            "  if np.issubdtype(vec.dtype, np.int):\n"
          ],
          "name": "stderr"
        },
        {
          "output_type": "execute_result",
          "data": {
            "text/plain": [
              "[('recognize', 0.9999610781669617),\n",
              " ('twice', 0.9999598264694214),\n",
              " ('options', 0.9999595284461975),\n",
              " ('result', 0.9999569654464722),\n",
              " ('admit', 0.9999568462371826),\n",
              " ('apartment', 0.9999567270278931),\n",
              " ('imply', 0.9999563097953796),\n",
              " ('playing', 0.9999561309814453),\n",
              " ('theyve', 0.9999561309814453),\n",
              " ('flame', 0.999955952167511)]"
            ]
          },
          "metadata": {
            "tags": []
          },
          "execution_count": 28
        }
      ]
    },
    {
      "metadata": {
        "id": "ay-LI6cMgTr7",
        "colab_type": "code",
        "outputId": "60838551-f799-41a6-cdde-3550ef66d40a",
        "colab": {
          "base_uri": "https://localhost:8080/",
          "height": 808
        }
      },
      "cell_type": "code",
      "source": [
        "from sklearn.decomposition import PCA\n",
        "import random\n",
        "\n",
        "index = random.randint(0, 5000)\n",
        "index = 200\n",
        "words = list(w2v_model.wv.vocab.keys())[index: index+25]\n",
        "\n",
        "pca = PCA(2)\n",
        "\n",
        "vectors = np.array([w2v_model.wv.get_vector(w) for w in words])\n",
        "\n",
        "transformed = pca.fit_transform(vectors)\n",
        "\n",
        "for i, v in enumerate(transformed[:25]):\n",
        "  plt.text(v[0], v[1], words[i], fontsize=21)\n",
        "\n",
        "plt.scatter(transformed[:, 0], transformed[:, 1], s=0)\n",
        "plt.gcf().set_size_inches(21, 14)"
      ],
      "execution_count": 0,
      "outputs": [
        {
          "output_type": "display_data",
          "data": {
            "image/png": "[encoded data removed]",
            "text/plain": [
              "<Figure size 1512x1008 with 1 Axes>"
            ]
          },
          "metadata": {
            "tags": []
          }
        }
      ]
    },
    {
      "metadata": {
        "id": "U_8bnqdFa0fC",
        "colab_type": "code",
        "colab": {}
      },
      "cell_type": "code",
      "source": [
        "def get_sentence_embedding(sentence):\n",
        "  \n",
        "  embedding = np.zeros(300)\n",
        "  \n",
        "  for word in sentence.split():\n",
        "    try:\n",
        "      vector = w2v_model.wv.get_vector(word)\n",
        "    except KeyError as e:\n",
        "      vector = np.zeros(300)\n",
        "    embedding += vector\n",
        "    \n",
        "  return embedding / len(sentence.split())\n",
        "  "
      ],
      "execution_count": 0,
      "outputs": []
    },
    {
      "metadata": {
        "id": "4jbjE6JbbpzB",
        "colab_type": "code",
        "colab": {}
      },
      "cell_type": "code",
      "source": [
        "x_w2v = np.array([get_sentence_embedding(clean(sentence)) for sentence in X])"
      ],
      "execution_count": 0,
      "outputs": []
    },
    {
      "metadata": {
        "id": "DBuctXpga1QT",
        "colab_type": "code",
        "colab": {}
      },
      "cell_type": "code",
      "source": [
        "x_train, x_test, y_train, y_test = train_test_split(x_w2v, y)"
      ],
      "execution_count": 0,
      "outputs": []
    },
    {
      "metadata": {
        "id": "vkt7ee0tbtM_",
        "colab_type": "code",
        "outputId": "f10e7203-2246-4856-c66a-9b39f5db7a29",
        "colab": {
          "base_uri": "https://localhost:8080/",
          "height": 123
        }
      },
      "cell_type": "code",
      "source": [
        "model = keras.models.Sequential()\n",
        "model.add(keras.layers.Dense(256, activation='relu', input_shape=(300, )))\n",
        "model.add(keras.layers.Dropout(0.3))\n",
        "model.add(keras.layers.Dense(64, activation='relu'))\n",
        "model.add(keras.layers.Dense(len(np.unique(y)), activation='softmax'))\n",
        "\n",
        "\n",
        "model.compile(loss='sparse_categorical_crossentropy', optimizer='adam', metrics=['accuracy'])"
      ],
      "execution_count": 0,
      "outputs": [
        {
          "output_type": "stream",
          "text": [
            "WARNING:tensorflow:From /usr/local/lib/python3.6/dist-packages/keras/backend/tensorflow_backend.py:3445: calling dropout (from tensorflow.python.ops.nn_ops) with keep_prob is deprecated and will be removed in a future version.\n",
            "Instructions for updating:\n",
            "Please use `rate` instead of `keep_prob`. Rate should be set to `rate = 1 - keep_prob`.\n"
          ],
          "name": "stdout"
        },
        {
          "output_type": "stream",
          "text": [
            "WARNING - 09:47:35: From /usr/local/lib/python3.6/dist-packages/keras/backend/tensorflow_backend.py:3445: calling dropout (from tensorflow.python.ops.nn_ops) with keep_prob is deprecated and will be removed in a future version.\n",
            "Instructions for updating:\n",
            "Please use `rate` instead of `keep_prob`. Rate should be set to `rate = 1 - keep_prob`.\n"
          ],
          "name": "stderr"
        }
      ]
    },
    {
      "metadata": {
        "id": "BOYVWfF5vps8",
        "colab_type": "code",
        "outputId": "ac2a8311-e579-4f99-ad0a-d35dd3a4fe6b",
        "colab": {
          "base_uri": "https://localhost:8080/",
          "height": 283
        }
      },
      "cell_type": "code",
      "source": [
        "model.summary()"
      ],
      "execution_count": 0,
      "outputs": [
        {
          "output_type": "stream",
          "text": [
            "_________________________________________________________________\n",
            "Layer (type)                 Output Shape              Param #   \n",
            "=================================================================\n",
            "dense_7 (Dense)              (None, 256)               77056     \n",
            "_________________________________________________________________\n",
            "dropout_1 (Dropout)          (None, 256)               0         \n",
            "_________________________________________________________________\n",
            "dense_8 (Dense)              (None, 64)                16448     \n",
            "_________________________________________________________________\n",
            "dense_9 (Dense)              (None, 20)                1300      \n",
            "=================================================================\n",
            "Total params: 94,804\n",
            "Trainable params: 94,804\n",
            "Non-trainable params: 0\n",
            "_________________________________________________________________\n"
          ],
          "name": "stdout"
        }
      ]
    },
    {
      "metadata": {
        "id": "4A_UPYoxvsIF",
        "colab_type": "code",
        "outputId": "a3d607e1-94ac-4491-ee82-f7160b01c9dd",
        "colab": {
          "base_uri": "https://localhost:8080/",
          "height": 407
        }
      },
      "cell_type": "code",
      "source": [
        "model.fit(x_train, y_train, epochs=10, batch_size=32, validation_data=(x_test, y_test))"
      ],
      "execution_count": 0,
      "outputs": [
        {
          "output_type": "stream",
          "text": [
            "Train on 8485 samples, validate on 2829 samples\n",
            "Epoch 1/10\n",
            "8485/8485 [==============================] - 2s 178us/step - loss: 2.9947 - acc: 0.0552 - val_loss: 2.9918 - val_acc: 0.0452\n",
            "Epoch 2/10\n",
            "8485/8485 [==============================] - 1s 142us/step - loss: 2.9929 - acc: 0.0532 - val_loss: 2.9923 - val_acc: 0.0452\n",
            "Epoch 3/10\n",
            "8485/8485 [==============================] - 1s 143us/step - loss: 2.9916 - acc: 0.0550 - val_loss: 2.9915 - val_acc: 0.0505\n",
            "Epoch 4/10\n",
            "8485/8485 [==============================] - 1s 142us/step - loss: 2.9911 - acc: 0.0547 - val_loss: 2.9904 - val_acc: 0.0470\n",
            "Epoch 5/10\n",
            "8485/8485 [==============================] - 1s 144us/step - loss: 2.9892 - acc: 0.0533 - val_loss: 2.9871 - val_acc: 0.0675\n",
            "Epoch 6/10\n",
            "8485/8485 [==============================] - 1s 142us/step - loss: 2.9841 - acc: 0.0651 - val_loss: 2.9756 - val_acc: 0.0693\n",
            "Epoch 7/10\n",
            "8485/8485 [==============================] - 1s 143us/step - loss: 2.9626 - acc: 0.0772 - val_loss: 2.9387 - val_acc: 0.0961\n",
            "Epoch 8/10\n",
            "8485/8485 [==============================] - 1s 144us/step - loss: 2.9352 - acc: 0.0885 - val_loss: 2.9210 - val_acc: 0.0919\n",
            "Epoch 9/10\n",
            "8485/8485 [==============================] - 1s 144us/step - loss: 2.9139 - acc: 0.0923 - val_loss: 2.9062 - val_acc: 0.0986\n",
            "Epoch 10/10\n",
            "8485/8485 [==============================] - 1s 142us/step - loss: 2.9039 - acc: 0.0959 - val_loss: 2.8919 - val_acc: 0.0990\n"
          ],
          "name": "stdout"
        },
        {
          "output_type": "execute_result",
          "data": {
            "text/plain": [
              "<keras.callbacks.History at 0x7ff85f632438>"
            ]
          },
          "metadata": {
            "tags": []
          },
          "execution_count": 35
        }
      ]
    },
    {
      "metadata": {
        "id": "ZIBh_zn99_Se",
        "colab_type": "text"
      },
      "cell_type": "markdown",
      "source": [
        "## LSTM with custom embeddings\n",
        "\n",
        "Legendary blog post by Andrew Karpathy:\n",
        "- http://karpathy.github.io/2015/05/21/rnn-effectiveness/\n"
      ]
    },
    {
      "metadata": {
        "id": "Ugu6xoJnGS0_",
        "colab_type": "text"
      },
      "cell_type": "markdown",
      "source": [
        "![](https://image.slidesharecdn.com/data2day2016daniel-161006141859/95/natural-language-processing-with-recurrent-neural-networks-15-638.jpg?cb=1475764680)"
      ]
    },
    {
      "metadata": {
        "id": "nLyGHt0iyuBo",
        "colab_type": "code",
        "colab": {}
      },
      "cell_type": "code",
      "source": [
        "max_words = 2000\n",
        "max_len = 150\n",
        "\n",
        "tok = Tokenizer(num_words=max_words)\n",
        "tok.fit_on_texts(cleaned_text)\n",
        "\n",
        "sequences = tok.texts_to_sequences(cleaned_text)\n",
        "sequences_matrix = keras.preprocessing.sequence.pad_sequences(sequences, maxlen=max_len)"
      ],
      "execution_count": 0,
      "outputs": []
    },
    {
      "metadata": {
        "id": "GLRqikoavz_t",
        "colab_type": "code",
        "outputId": "91327976-fc6e-4095-918a-beb23d54831f",
        "colab": {
          "base_uri": "https://localhost:8080/",
          "height": 34
        }
      },
      "cell_type": "code",
      "source": [
        "sequences_matrix.shape"
      ],
      "execution_count": 0,
      "outputs": [
        {
          "output_type": "execute_result",
          "data": {
            "text/plain": [
              "(11314, 150)"
            ]
          },
          "metadata": {
            "tags": []
          },
          "execution_count": 37
        }
      ]
    },
    {
      "metadata": {
        "id": "i0LJrU5yu1vd",
        "colab_type": "code",
        "outputId": "8e1b334a-fb15-489a-80df-26b8cae407d9",
        "colab": {
          "base_uri": "https://localhost:8080/",
          "height": 632
        }
      },
      "cell_type": "code",
      "source": [
        "model = keras.models.Sequential()\n",
        "\n",
        "model.add(keras.layers.Embedding(max_words, 50, input_length=max_len, input_shape=(max_len, )))\n",
        "\n",
        "model.add(keras.layers.CuDNNLSTM(128)) # can be replaced with RNN or GRU\n",
        "model.add(keras.layers.Dense(128, activation='relu'))\n",
        "model.add(keras.layers.Dropout(0.3))\n",
        "model.add(keras.layers.Dense(len(np.unique(y)), activation='softmax'))\n",
        "\n",
        "\n",
        "model.compile(loss='sparse_categorical_crossentropy', optimizer='adam', metrics=['accuracy'])"
      ],
      "execution_count": 0,
      "outputs": [
        {
          "output_type": "error",
          "ename": "TypeError",
          "evalue": "ignored",
          "traceback": [
            "\u001b[0;31m---------------------------------------------------------------------------\u001b[0m",
            "\u001b[0;31mTypeError\u001b[0m                                 Traceback (most recent call last)",
            "\u001b[0;32m<ipython-input-38-45127229152c>\u001b[0m in \u001b[0;36m<module>\u001b[0;34m()\u001b[0m\n\u001b[1;32m      3\u001b[0m \u001b[0mmodel\u001b[0m\u001b[0;34m.\u001b[0m\u001b[0madd\u001b[0m\u001b[0;34m(\u001b[0m\u001b[0mkeras\u001b[0m\u001b[0;34m.\u001b[0m\u001b[0mlayers\u001b[0m\u001b[0;34m.\u001b[0m\u001b[0mEmbedding\u001b[0m\u001b[0;34m(\u001b[0m\u001b[0mmax_words\u001b[0m\u001b[0;34m,\u001b[0m \u001b[0;36m50\u001b[0m\u001b[0;34m,\u001b[0m \u001b[0minput_length\u001b[0m\u001b[0;34m=\u001b[0m\u001b[0mmax_len\u001b[0m\u001b[0;34m,\u001b[0m \u001b[0minput_shape\u001b[0m\u001b[0;34m=\u001b[0m\u001b[0;34m(\u001b[0m\u001b[0mmax_len\u001b[0m\u001b[0;34m,\u001b[0m \u001b[0;34m)\u001b[0m\u001b[0;34m)\u001b[0m\u001b[0;34m)\u001b[0m\u001b[0;34m\u001b[0m\u001b[0;34m\u001b[0m\u001b[0m\n\u001b[1;32m      4\u001b[0m \u001b[0;34m\u001b[0m\u001b[0m\n\u001b[0;32m----> 5\u001b[0;31m \u001b[0mmodel\u001b[0m\u001b[0;34m.\u001b[0m\u001b[0madd\u001b[0m\u001b[0;34m(\u001b[0m\u001b[0mkeras\u001b[0m\u001b[0;34m.\u001b[0m\u001b[0mlayers\u001b[0m\u001b[0;34m.\u001b[0m\u001b[0mCuDNNLSTM\u001b[0m\u001b[0;34m(\u001b[0m\u001b[0;36m128\u001b[0m\u001b[0;34m,\u001b[0m \u001b[0mrecurrent_dropout\u001b[0m\u001b[0;34m=\u001b[0m\u001b[0;36m0.3\u001b[0m\u001b[0;34m)\u001b[0m\u001b[0;34m)\u001b[0m\u001b[0;34m\u001b[0m\u001b[0;34m\u001b[0m\u001b[0m\n\u001b[0m\u001b[1;32m      6\u001b[0m \u001b[0mmodel\u001b[0m\u001b[0;34m.\u001b[0m\u001b[0madd\u001b[0m\u001b[0;34m(\u001b[0m\u001b[0mkeras\u001b[0m\u001b[0;34m.\u001b[0m\u001b[0mlayers\u001b[0m\u001b[0;34m.\u001b[0m\u001b[0mDense\u001b[0m\u001b[0;34m(\u001b[0m\u001b[0;36m128\u001b[0m\u001b[0;34m,\u001b[0m \u001b[0mactivation\u001b[0m\u001b[0;34m=\u001b[0m\u001b[0;34m'relu'\u001b[0m\u001b[0;34m)\u001b[0m\u001b[0;34m)\u001b[0m\u001b[0;34m\u001b[0m\u001b[0;34m\u001b[0m\u001b[0m\n\u001b[1;32m      7\u001b[0m \u001b[0mmodel\u001b[0m\u001b[0;34m.\u001b[0m\u001b[0madd\u001b[0m\u001b[0;34m(\u001b[0m\u001b[0mkeras\u001b[0m\u001b[0;34m.\u001b[0m\u001b[0mlayers\u001b[0m\u001b[0;34m.\u001b[0m\u001b[0mDropout\u001b[0m\u001b[0;34m(\u001b[0m\u001b[0;36m0.3\u001b[0m\u001b[0;34m)\u001b[0m\u001b[0;34m)\u001b[0m\u001b[0;34m\u001b[0m\u001b[0;34m\u001b[0m\u001b[0m\n",
            "\u001b[0;32m/usr/local/lib/python3.6/dist-packages/keras/layers/cudnn_recurrent.py\u001b[0m in \u001b[0;36m__init__\u001b[0;34m(self, units, kernel_initializer, recurrent_initializer, bias_initializer, unit_forget_bias, kernel_regularizer, recurrent_regularizer, bias_regularizer, activity_regularizer, kernel_constraint, recurrent_constraint, bias_constraint, return_sequences, return_state, stateful, **kwargs)\u001b[0m\n\u001b[1;32m    395\u001b[0m             \u001b[0mreturn_state\u001b[0m\u001b[0;34m=\u001b[0m\u001b[0mreturn_state\u001b[0m\u001b[0;34m,\u001b[0m\u001b[0;34m\u001b[0m\u001b[0;34m\u001b[0m\u001b[0m\n\u001b[1;32m    396\u001b[0m             \u001b[0mstateful\u001b[0m\u001b[0;34m=\u001b[0m\u001b[0mstateful\u001b[0m\u001b[0;34m,\u001b[0m\u001b[0;34m\u001b[0m\u001b[0;34m\u001b[0m\u001b[0m\n\u001b[0;32m--> 397\u001b[0;31m             **kwargs)\n\u001b[0m\u001b[1;32m    398\u001b[0m \u001b[0;34m\u001b[0m\u001b[0m\n\u001b[1;32m    399\u001b[0m         \u001b[0mself\u001b[0m\u001b[0;34m.\u001b[0m\u001b[0mkernel_initializer\u001b[0m \u001b[0;34m=\u001b[0m \u001b[0minitializers\u001b[0m\u001b[0;34m.\u001b[0m\u001b[0mget\u001b[0m\u001b[0;34m(\u001b[0m\u001b[0mkernel_initializer\u001b[0m\u001b[0;34m)\u001b[0m\u001b[0;34m\u001b[0m\u001b[0;34m\u001b[0m\u001b[0m\n",
            "\u001b[0;32m/usr/local/lib/python3.6/dist-packages/keras/layers/cudnn_recurrent.py\u001b[0m in \u001b[0;36m__init__\u001b[0;34m(self, return_sequences, return_state, go_backwards, stateful, **kwargs)\u001b[0m\n\u001b[1;32m     37\u001b[0m             raise RuntimeError('CuDNN RNNs are only available '\n\u001b[1;32m     38\u001b[0m                                'with the TensorFlow backend.')\n\u001b[0;32m---> 39\u001b[0;31m         \u001b[0msuper\u001b[0m\u001b[0;34m(\u001b[0m\u001b[0mRNN\u001b[0m\u001b[0;34m,\u001b[0m \u001b[0mself\u001b[0m\u001b[0;34m)\u001b[0m\u001b[0;34m.\u001b[0m\u001b[0m__init__\u001b[0m\u001b[0;34m(\u001b[0m\u001b[0;34m**\u001b[0m\u001b[0mkwargs\u001b[0m\u001b[0;34m)\u001b[0m\u001b[0;34m\u001b[0m\u001b[0;34m\u001b[0m\u001b[0m\n\u001b[0m\u001b[1;32m     40\u001b[0m         \u001b[0mself\u001b[0m\u001b[0;34m.\u001b[0m\u001b[0mreturn_sequences\u001b[0m \u001b[0;34m=\u001b[0m \u001b[0mreturn_sequences\u001b[0m\u001b[0;34m\u001b[0m\u001b[0;34m\u001b[0m\u001b[0m\n\u001b[1;32m     41\u001b[0m         \u001b[0mself\u001b[0m\u001b[0;34m.\u001b[0m\u001b[0mreturn_state\u001b[0m \u001b[0;34m=\u001b[0m \u001b[0mreturn_state\u001b[0m\u001b[0;34m\u001b[0m\u001b[0;34m\u001b[0m\u001b[0m\n",
            "\u001b[0;32m/usr/local/lib/python3.6/dist-packages/keras/engine/base_layer.py\u001b[0m in \u001b[0;36m__init__\u001b[0;34m(self, **kwargs)\u001b[0m\n\u001b[1;32m    126\u001b[0m         \u001b[0;32mfor\u001b[0m \u001b[0mkwarg\u001b[0m \u001b[0;32min\u001b[0m \u001b[0mkwargs\u001b[0m\u001b[0;34m:\u001b[0m\u001b[0;34m\u001b[0m\u001b[0;34m\u001b[0m\u001b[0m\n\u001b[1;32m    127\u001b[0m             \u001b[0;32mif\u001b[0m \u001b[0mkwarg\u001b[0m \u001b[0;32mnot\u001b[0m \u001b[0;32min\u001b[0m \u001b[0mallowed_kwargs\u001b[0m\u001b[0;34m:\u001b[0m\u001b[0;34m\u001b[0m\u001b[0;34m\u001b[0m\u001b[0m\n\u001b[0;32m--> 128\u001b[0;31m                 \u001b[0;32mraise\u001b[0m \u001b[0mTypeError\u001b[0m\u001b[0;34m(\u001b[0m\u001b[0;34m'Keyword argument not understood:'\u001b[0m\u001b[0;34m,\u001b[0m \u001b[0mkwarg\u001b[0m\u001b[0;34m)\u001b[0m\u001b[0;34m\u001b[0m\u001b[0;34m\u001b[0m\u001b[0m\n\u001b[0m\u001b[1;32m    129\u001b[0m         \u001b[0mname\u001b[0m \u001b[0;34m=\u001b[0m \u001b[0mkwargs\u001b[0m\u001b[0;34m.\u001b[0m\u001b[0mget\u001b[0m\u001b[0;34m(\u001b[0m\u001b[0;34m'name'\u001b[0m\u001b[0;34m)\u001b[0m\u001b[0;34m\u001b[0m\u001b[0;34m\u001b[0m\u001b[0m\n\u001b[1;32m    130\u001b[0m         \u001b[0;32mif\u001b[0m \u001b[0;32mnot\u001b[0m \u001b[0mname\u001b[0m\u001b[0;34m:\u001b[0m\u001b[0;34m\u001b[0m\u001b[0;34m\u001b[0m\u001b[0m\n",
            "\u001b[0;31mTypeError\u001b[0m: ('Keyword argument not understood:', 'recurrent_dropout')"
          ]
        }
      ]
    },
    {
      "metadata": {
        "id": "VKRn0HabvLkz",
        "colab_type": "code",
        "colab": {}
      },
      "cell_type": "code",
      "source": [
        "model.fit(sequences_matrix, y, epochs=5, batch_size=32, validation_split=0.2)"
      ],
      "execution_count": 0,
      "outputs": []
    },
    {
      "metadata": {
        "id": "31En1bSq1vI7",
        "colab_type": "code",
        "colab": {}
      },
      "cell_type": "code",
      "source": [
        "model.layers[0].get_weights()[0][1]"
      ],
      "execution_count": 0,
      "outputs": []
    },
    {
      "metadata": {
        "id": "Q2DO0hM-2OJ9",
        "colab_type": "code",
        "colab": {}
      },
      "cell_type": "code",
      "source": [
        "\n",
        "def most_similar(word, weights, amount=10):\n",
        "  index = tok.word_index[word]\n",
        "  \n",
        "  try:\n",
        "    embedding = weights[index].reshape(1, -1)\n",
        "  except:\n",
        "    embedding = weights[0].reshape(1, -1)\n",
        "  \n",
        "  sims = cosine_similarity(embedding, weights).ravel()\n",
        "\n",
        "  indices = np.argsort(sims)[::-1][1:amount+1]\n",
        "  return [(tok.index_word[i], sims[i]) for i in indices.ravel()]"
      ],
      "execution_count": 0,
      "outputs": []
    },
    {
      "metadata": {
        "id": "EGLYlCAT2uz8",
        "colab_type": "code",
        "colab": {}
      },
      "cell_type": "code",
      "source": [
        "embedding_layer = model.layers[0].get_weights()[0]\n",
        "\n",
        "most_similar('man', embedding_layer)"
      ],
      "execution_count": 0,
      "outputs": []
    },
    {
      "metadata": {
        "id": "EZvK8Ftt6iv3",
        "colab_type": "text"
      },
      "cell_type": "markdown",
      "source": [
        "Note that these may or may not mean anything to us. It's what the network decided to learn about these words. Word2Vec can give us semantically similar words because it was trained that way."
      ]
    },
    {
      "metadata": {
        "id": "BvhMf8UX7WJG",
        "colab_type": "code",
        "colab": {}
      },
      "cell_type": "code",
      "source": [
        ""
      ],
      "execution_count": 0,
      "outputs": []
    }
  ]
}